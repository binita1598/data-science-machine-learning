{
 "cells": [
  {
   "cell_type": "code",
   "execution_count": 18,
   "metadata": {},
   "outputs": [
    {
     "name": "stdout",
     "output_type": "stream",
     "text": [
      "CS0002,Hiner,Judith\n",
      "CS0002,Mcmahon,Ludivina\n",
      "CS0002,Trusty,Beatrice\n",
      "CS0002,Brinn,Jacqulyn\n",
      "CS0002,Hintzen,Floria\n",
      "CS0002,Amyx,Randolph\n",
      "CS0004,Woodman,Tilda\n",
      "CS0004,Schneiderman,Saran\n",
      "CS0004,Conn,Glayds\n",
      "CS0004,Cales,Edgar\n",
      "CS0004,Hiner,Judith\n",
      "CS0004,Lukens,Refugio\n",
      "CS0004,Alfrey,Jerrica\n",
      "CS0060,Catalfamo,Leonia\n",
      "CS0060,Brace,Celia\n",
      "CS0060,Lebrun,Lindsay\n",
      "CS0060,Vince,Randi\n",
      "CS0060,Brewster,Andre\n",
      "CS0060,Fuson,Aileen\n",
      "CS0060,Sgro,Adrianna\n",
      "CS0060,Hillock,Junko\n",
      "CS0060,Preusser,Rebecka\n",
      "CS0060,Brinkmann,Larisa\n",
      "CS0061,Eiler,Lizabeth\n",
      "CS0061,Preusser,Rebecka\n",
      "CS0061,Schneiderman,Saran\n",
      "CS0061,Pound,Britni\n",
      "CS0061,Rodman,Sherron\n",
      "CS0101,Sepe,Alta\n",
      "CS0101,Cales,Edgar\n",
      "CS0101,Schneiderman,Saran\n",
      "CS0101,Catalfamo,Leonia\n",
      "CS0101,Alfrey,Jerrica\n",
      "CS0101,Lukens,Refugio\n",
      "CS0102,Pound,Britni\n",
      "CS0102,Brinkmann,Larisa\n",
      "CS0102,Cales,Edgar\n",
      "CS0102,Conn,Glayds\n",
      "CS0102,Mcmahon,Ludivina\n",
      "CS0102,Sepe,Alta\n",
      "CS0102,Vince,Randi\n",
      "CS0102,Mccaleb,Kip\n",
      "CS0380,Mccaleb,Kip\n",
      "CS0380,Fuson,Aileen\n",
      "CS0380,Mcmahon,Ludivina\n",
      "CS0380,Schmit,Elidia\n",
      "CS0380,Tenenbaum,Christina\n",
      "CS0380,Brinn,Jacqulyn\n",
      "CS0380,Difilippo,Beulah\n"
     ]
    }
   ],
   "source": [
    "file=open(\"enrollment_data.txt\")\n",
    "print(file.read())"
   ]
  },
  {
   "cell_type": "code",
   "execution_count": 29,
   "metadata": {},
   "outputs": [
    {
     "name": "stdout",
     "output_type": "stream",
     "text": [
      "enter course codeCS0380\n",
      "Mccaleb Kip\n",
      "Fuson Aileen\n",
      "Mcmahon Ludivina\n",
      "Schmit Elidia\n",
      "Tenenbaum Christina\n",
      "Brinn Jacqulyn\n",
      "Difilippo Beulah\n"
     ]
    }
   ],
   "source": [
    "code=input(\"enter course code\")\n",
    "file=open(\"enrollment_data.txt\")\n",
    "color='red'\n",
    "for i in file:\n",
    "    if(code in i.replace('\\n','').split(',')[0]==code):\n",
    "        \n",
    "        first=i.replace('\\n','').split(',')[1]\n",
    "        second=i.replace('\\n','').split(',')[2]\n",
    "        full=first+ \" \"+second\n",
    "        print(full)\n",
    "        color='green'\n",
    "if(color=='red'):\n",
    "    print(\"not exist\")\n"
   ]
  },
  {
   "cell_type": "code",
   "execution_count": 37,
   "metadata": {},
   "outputs": [
    {
     "ename": "IndentationError",
     "evalue": "unindent does not match any outer indentation level (<tokenize>, line 16)",
     "output_type": "error",
     "traceback": [
      "\u001b[1;36m  File \u001b[1;32m\"<tokenize>\"\u001b[1;36m, line \u001b[1;32m16\u001b[0m\n\u001b[1;33m    if(c==1):\u001b[0m\n\u001b[1;37m    ^\u001b[0m\n\u001b[1;31mIndentationError\u001b[0m\u001b[1;31m:\u001b[0m unindent does not match any outer indentation level\n"
     ]
    }
   ],
   "source": [
    "code=input(\"enter course code\")\n",
    "file=open(\"enrollment_data.txt\")\n",
    "c=2\n",
    "          \n",
    "\n",
    "\n",
    "for i in file:\n",
    "    i= i.replace('\\n','').split(',')\n",
    "    if(code==i[0]):\n",
    "        print(i[1]+\" \"+i[2])\n",
    "       \n",
    "if(c==1):\n",
    "        print(\"not exist\")\n"
   ]
  },
  {
   "cell_type": "code",
   "execution_count": 33,
   "metadata": {},
   "outputs": [
    {
     "name": "stdout",
     "output_type": "stream",
     "text": [
      "['CS0002', 'Introduction to Computer Programming\\n']\n",
      "['CS0004', 'Introduction to Web Design and Computer Principles\\n']\n",
      "['CS0060', 'Database Design and Implementation\\n']\n",
      "['CS0061', 'Web Development\\n']\n",
      "['CS0101', 'Introduction to Computer Science\\n']\n",
      "['CS0102', 'Data Structures\\n']\n",
      "['CS0201', 'Computer Systems Organization\\n']\n",
      "['CS0380', 'Special Topics in Computer Science']\n"
     ]
    }
   ],
   "source": [
    "filename = \"class_data (1).txt\"\n",
    "infile = open(filename, 'r') \n",
    "\n",
    "for line in infile:\n",
    "    print(line.split(','))\n",
    "\n"
   ]
  },
  {
   "cell_type": "code",
   "execution_count": null,
   "metadata": {},
   "outputs": [],
   "source": []
  },
  {
   "cell_type": "code",
   "execution_count": null,
   "metadata": {},
   "outputs": [],
   "source": []
  }
 ],
 "metadata": {
  "kernelspec": {
   "display_name": "Python 3",
   "language": "python",
   "name": "python3"
  },
  "language_info": {
   "codemirror_mode": {
    "name": "ipython",
    "version": 3
   },
   "file_extension": ".py",
   "mimetype": "text/x-python",
   "name": "python",
   "nbconvert_exporter": "python",
   "pygments_lexer": "ipython3",
   "version": "3.8.5"
  }
 },
 "nbformat": 4,
 "nbformat_minor": 4
}
